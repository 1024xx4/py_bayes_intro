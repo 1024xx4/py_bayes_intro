{
 "cells": [
  {
   "cell_type": "code",
   "execution_count": 1,
   "id": "initial_id",
   "metadata": {
    "collapsed": true,
    "ExecuteTime": {
     "end_time": "2023-12-12T14:42:23.642388900Z",
     "start_time": "2023-12-12T14:42:23.453911500Z"
    }
   },
   "outputs": [
    {
     "name": "stdout",
     "output_type": "stream",
     "text": [
      "notebook.ipynb\tPipfile  Pipfile.lock  README.md\r\n"
     ]
    }
   ],
   "source": [
    "!ls"
   ]
  },
  {
   "cell_type": "code",
   "execution_count": 2,
   "outputs": [
    {
     "name": "stdout",
     "output_type": "stream",
     "text": [
      "\u001B[32m\u001B[1mInstalling pymc==5.7.2...\u001B[0m\r\n",
      "\u001B[2K\u001B[32m⠧\u001B[0m ✔ Installation Succeeded\r\n",
      "\u001B[1A\u001B[2K\u001B[33m\u001B[1mPipfile.lock (f95262) out of date, updating to (791f39)...\u001B[0m\r\n",
      "Locking\u001B[0m \u001B[33m[packages]\u001B[0m dependencies...\u001B[0m\r\n",
      "\u001B[2K\u001B[32m⠸\u001B[0m ✔ Success!dependencies.....\r\n",
      "\u001B[1A\u001B[2KLocking\u001B[0m \u001B[33m[dev-packages]\u001B[0m dependencies...\u001B[0m\r\n",
      "\u001B[1mUpdated Pipfile.lock (576fee596b7289f338445b55b43fce6785dfe69fb4d7f1baa1fdbafc97791f39)!\u001B[0m\r\n",
      "\u001B[1mInstalling dependencies from Pipfile.lock (791f39)...\u001B[0m\r\n",
      "To activate this project's virtualenv, run \u001B[33mpipenv shell\u001B[0m.\r\n",
      "Alternatively, run a command inside the virtualenv with \u001B[33mpipenv run\u001B[0m.\r\n"
     ]
    }
   ],
   "source": [
    "!pipenv install pymc==5.7.2"
   ],
   "metadata": {
    "collapsed": false,
    "ExecuteTime": {
     "end_time": "2023-12-12T14:45:40.538273200Z",
     "start_time": "2023-12-12T14:44:15.796372Z"
    }
   },
   "id": "f71c92aa23fbaf7d"
  },
  {
   "cell_type": "code",
   "execution_count": 3,
   "outputs": [
    {
     "name": "stdout",
     "output_type": "stream",
     "text": [
      "\u001B[32m\u001B[1mInstalling arviz==0.15.1...\u001B[0m\r\n",
      "\u001B[2K\u001B[32m⠼\u001B[0m ✔ Installation Succeeded\r\n",
      "\u001B[1A\u001B[2K\u001B[33m\u001B[1mPipfile.lock (791f39) out of date, updating to (ad8999)...\u001B[0m\r\n",
      "Locking\u001B[0m \u001B[33m[packages]\u001B[0m dependencies...\u001B[0m\r\n",
      "\u001B[2K\u001B[32m⠧\u001B[0m ✔ Success!dependencies.....\r\n",
      "\u001B[1A\u001B[2KLocking\u001B[0m \u001B[33m[dev-packages]\u001B[0m dependencies...\u001B[0m\r\n",
      "\u001B[1mUpdated Pipfile.lock (06aeca2a6f4520174914f753ab98a6f58f322b5f02fb5597cdedfe0a5ead8999)!\u001B[0m\r\n",
      "\u001B[1mInstalling dependencies from Pipfile.lock (ad8999)...\u001B[0m\r\n",
      "To activate this project's virtualenv, run \u001B[33mpipenv shell\u001B[0m.\r\n",
      "Alternatively, run a command inside the virtualenv with \u001B[33mpipenv run\u001B[0m.\r\n"
     ]
    }
   ],
   "source": [
    "!pipenv install arviz==0.15.1"
   ],
   "metadata": {
    "collapsed": false,
    "ExecuteTime": {
     "end_time": "2023-12-12T14:48:04.984482600Z",
     "start_time": "2023-12-12T14:46:34.726639100Z"
    }
   },
   "id": "1efcf3fed2d78e64"
  },
  {
   "cell_type": "code",
   "execution_count": 4,
   "outputs": [
    {
     "name": "stdout",
     "output_type": "stream",
     "text": [
      "\u001B[32m\u001B[1mInstalling numpy==1.23.5...\u001B[0m\r\n",
      "\u001B[2K\u001B[32m⠧\u001B[0m ✔ Installation Succeeded\r\n",
      "\u001B[1A\u001B[2K\u001B[33m\u001B[1mPipfile.lock (ad8999) out of date, updating to (b1d377)...\u001B[0m\r\n",
      "Locking\u001B[0m \u001B[33m[packages]\u001B[0m dependencies...\u001B[0m\r\n",
      "\u001B[2K\u001B[32m⠴\u001B[0m ✔ Success!dependencies.....\r\n",
      "\u001B[1A\u001B[2KLocking\u001B[0m \u001B[33m[dev-packages]\u001B[0m dependencies...\u001B[0m\r\n",
      "\u001B[1mUpdated Pipfile.lock (43ccdd5c0282012c36786669108c5901dafcd8bdc36be0b40f0e5cbf61b1d377)!\u001B[0m\r\n",
      "\u001B[1mInstalling dependencies from Pipfile.lock (b1d377)...\u001B[0m\r\n",
      "To activate this project's virtualenv, run \u001B[33mpipenv shell\u001B[0m.\r\n",
      "Alternatively, run a command inside the virtualenv with \u001B[33mpipenv run\u001B[0m.\r\n"
     ]
    }
   ],
   "source": [
    "!pipenv install numpy==1.23.5"
   ],
   "metadata": {
    "collapsed": false,
    "ExecuteTime": {
     "end_time": "2023-12-12T14:50:30.539757200Z",
     "start_time": "2023-12-12T14:48:58.600064600Z"
    }
   },
   "id": "4d56fb7f82eec485"
  },
  {
   "cell_type": "code",
   "execution_count": 5,
   "outputs": [
    {
     "name": "stdout",
     "output_type": "stream",
     "text": [
      "\u001B[32m\u001B[1mInstalling pandas==1.5.3...\u001B[0m\r\n",
      "\u001B[2K\u001B[32m⠇\u001B[0m ✔ Installation Succeeded\r\n",
      "\u001B[1A\u001B[2K\u001B[33m\u001B[1mPipfile.lock (b1d377) out of date, updating to (65755f)...\u001B[0m\r\n",
      "Locking\u001B[0m \u001B[33m[packages]\u001B[0m dependencies...\u001B[0m\r\n",
      "\u001B[2K\u001B[32m⠋\u001B[0m ✔ Success!dependencies.....\r\n",
      "\u001B[1A\u001B[2KLocking\u001B[0m \u001B[33m[dev-packages]\u001B[0m dependencies...\u001B[0m\r\n",
      "\u001B[1mUpdated Pipfile.lock (29037bf3fd426d3e318c2dc06dcdc19bfcefabd920f1ce043d1bd15a2a65755f)!\u001B[0m\r\n",
      "\u001B[1mInstalling dependencies from Pipfile.lock (65755f)...\u001B[0m\r\n",
      "To activate this project's virtualenv, run \u001B[33mpipenv shell\u001B[0m.\r\n",
      "Alternatively, run a command inside the virtualenv with \u001B[33mpipenv run\u001B[0m.\r\n"
     ]
    }
   ],
   "source": [
    "!pipenv install pandas==1.5.3"
   ],
   "metadata": {
    "collapsed": false,
    "ExecuteTime": {
     "end_time": "2023-12-12T14:53:13.879325800Z",
     "start_time": "2023-12-12T14:52:45.628142200Z"
    }
   },
   "id": "d77ab9d7eadbd303"
  },
  {
   "cell_type": "code",
   "execution_count": 6,
   "outputs": [
    {
     "name": "stdout",
     "output_type": "stream",
     "text": [
      "\u001B[32m\u001B[1mInstalling matplotlib==3.7.1...\u001B[0m\r\n",
      "\u001B[2K\u001B[32m⠼\u001B[0m ✔ Installation Succeeded..\r\n",
      "\u001B[1A\u001B[2K\u001B[33m\u001B[1mPipfile.lock (65755f) out of date, updating to (04da2d)...\u001B[0m\r\n",
      "Locking\u001B[0m \u001B[33m[packages]\u001B[0m dependencies...\u001B[0m\r\n",
      "\u001B[2K\u001B[32m⠏\u001B[0m ✔ Success!dependencies.....\r\n",
      "\u001B[1A\u001B[2KLocking\u001B[0m \u001B[33m[dev-packages]\u001B[0m dependencies...\u001B[0m\r\n",
      "\u001B[1mUpdated Pipfile.lock (0e836ffbe7886fdf3927d2d1d22cdce9c936cb7d1f94e4bd31cafc7e9e04da2d)!\u001B[0m\r\n",
      "\u001B[1mInstalling dependencies from Pipfile.lock (04da2d)...\u001B[0m\r\n",
      "To activate this project's virtualenv, run \u001B[33mpipenv shell\u001B[0m.\r\n",
      "Alternatively, run a command inside the virtualenv with \u001B[33mpipenv run\u001B[0m.\r\n"
     ]
    }
   ],
   "source": [
    "!pipenv install matplotlib==3.7.1"
   ],
   "metadata": {
    "collapsed": false,
    "ExecuteTime": {
     "end_time": "2023-12-12T14:54:03.840256600Z",
     "start_time": "2023-12-12T14:53:37.411366600Z"
    }
   },
   "id": "87675bd700f765bf"
  },
  {
   "cell_type": "code",
   "execution_count": 7,
   "outputs": [
    {
     "name": "stdout",
     "output_type": "stream",
     "text": [
      "\u001B[32m\u001B[1mInstalling seaborn==0.12.2...\u001B[0m\r\n",
      "\u001B[2K\u001B[32m⠼\u001B[0m ✔ Installation Succeeded\r\n",
      "\u001B[1A\u001B[2K\u001B[33m\u001B[1mPipfile.lock (04da2d) out of date, updating to (0dbc5e)...\u001B[0m\r\n",
      "Locking\u001B[0m \u001B[33m[packages]\u001B[0m dependencies...\u001B[0m\r\n",
      "\u001B[2K\u001B[32m⠸\u001B[0m ✔ Success!dependencies.....\r\n",
      "\u001B[1A\u001B[2KLocking\u001B[0m \u001B[33m[dev-packages]\u001B[0m dependencies...\u001B[0m\r\n",
      "\u001B[1mUpdated Pipfile.lock (f04c2d63d566c81d18440a2201c9960f1186dd855879781094800234650dbc5e)!\u001B[0m\r\n",
      "\u001B[1mInstalling dependencies from Pipfile.lock (0dbc5e)...\u001B[0m\r\n",
      "To activate this project's virtualenv, run \u001B[33mpipenv shell\u001B[0m.\r\n",
      "Alternatively, run a command inside the virtualenv with \u001B[33mpipenv run\u001B[0m.\r\n"
     ]
    }
   ],
   "source": [
    "!pipenv install seaborn==0.12.2"
   ],
   "metadata": {
    "collapsed": false,
    "ExecuteTime": {
     "end_time": "2023-12-12T14:54:50.486476200Z",
     "start_time": "2023-12-12T14:54:23.843195800Z"
    }
   },
   "id": "700bb25ca9c352a"
  },
  {
   "cell_type": "code",
   "execution_count": 8,
   "outputs": [
    {
     "name": "stdout",
     "output_type": "stream",
     "text": [
      "\u001B[32m\u001B[1mInstalling scipy==1.10.1...\u001B[0m\r\n",
      "\u001B[2K\u001B[32m⠼\u001B[0m ✔ Installation Succeeded\r\n",
      "\u001B[1A\u001B[2K\u001B[33m\u001B[1mPipfile.lock (0dbc5e) out of date, updating to (e8b085)...\u001B[0m\r\n",
      "Locking\u001B[0m \u001B[33m[packages]\u001B[0m dependencies...\u001B[0m\r\n",
      "\u001B[2K\u001B[32m⠋\u001B[0m ✔ Success!dependencies.....\r\n",
      "\u001B[1A\u001B[2KLocking\u001B[0m \u001B[33m[dev-packages]\u001B[0m dependencies...\u001B[0m\r\n",
      "\u001B[1mUpdated Pipfile.lock (9859b5056dd3922124871cfb77401f783ef479f7765ec42fb817bbc288e8b085)!\u001B[0m\r\n",
      "\u001B[1mInstalling dependencies from Pipfile.lock (e8b085)...\u001B[0m\r\n",
      "To activate this project's virtualenv, run \u001B[33mpipenv shell\u001B[0m.\r\n",
      "Alternatively, run a command inside the virtualenv with \u001B[33mpipenv run\u001B[0m.\r\n"
     ]
    }
   ],
   "source": [
    "!pipenv install scipy==1.10.1"
   ],
   "metadata": {
    "collapsed": false,
    "ExecuteTime": {
     "end_time": "2023-12-12T14:55:58.556767100Z",
     "start_time": "2023-12-12T14:55:29.383728300Z"
    }
   },
   "id": "ed381cfa3e79f50a"
  },
  {
   "cell_type": "code",
   "execution_count": null,
   "outputs": [],
   "source": [],
   "metadata": {
    "collapsed": false
   },
   "id": "98751598750eabbd"
  }
 ],
 "metadata": {
  "kernelspec": {
   "display_name": "Python 3",
   "language": "python",
   "name": "python3"
  },
  "language_info": {
   "codemirror_mode": {
    "name": "ipython",
    "version": 2
   },
   "file_extension": ".py",
   "mimetype": "text/x-python",
   "name": "python",
   "nbconvert_exporter": "python",
   "pygments_lexer": "ipython2",
   "version": "2.7.6"
  }
 },
 "nbformat": 4,
 "nbformat_minor": 5
}
